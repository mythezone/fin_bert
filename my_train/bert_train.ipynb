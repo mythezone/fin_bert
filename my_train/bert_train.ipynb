{
 "cells": [
  {
   "cell_type": "code",
   "execution_count": null,
   "id": "7e80deb3",
   "metadata": {},
   "outputs": [],
   "source": [
    "from transformers import BertConfig\n",
    "\n",
    "config = BertConfig(\n",
    "    vocab_size=8000,  # 和 tokenizer 一致\n",
    "    hidden_size=256,  # 可根据计算资源调整\n",
    "    num_attention_heads=4,\n",
    "    num_hidden_layers=4,\n",
    "    max_position_embeddings=30,  # 一句话最大 token 数\n",
    "    type_vocab_size=2,\n",
    ")"
   ]
  }
 ],
 "metadata": {
  "kernelspec": {
   "display_name": "hf",
   "language": "python",
   "name": "python3"
  },
  "language_info": {
   "name": "python",
   "version": "3.13.2"
  }
 },
 "nbformat": 4,
 "nbformat_minor": 5
}
