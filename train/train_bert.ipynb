{
 "cells": [
  {
   "cell_type": "code",
   "execution_count": 1,
   "id": "46079748",
   "metadata": {},
   "outputs": [
    {
     "data": {
      "application/vnd.jupyter.widget-view+json": {
       "model_id": "ace6ab7afe21446f906960e665a93018",
       "version_major": 2,
       "version_minor": 0
      },
      "text/plain": [
       "Generating train split: 0 examples [00:00, ? examples/s]"
      ]
     },
     "metadata": {},
     "output_type": "display_data"
    }
   ],
   "source": [
    "from datasets import load_dataset\n",
    "\n",
    "dataset = load_dataset(\"text\", data_files={\"train\": \"dataset/standard_hex.txt\"})"
   ]
  },
  {
   "cell_type": "code",
   "execution_count": 2,
   "id": "8e456eb1",
   "metadata": {},
   "outputs": [
    {
     "ename": "NameError",
     "evalue": "name 'tokenizer' is not defined",
     "output_type": "error",
     "traceback": [
      "\u001b[31m---------------------------------------------------------------------------\u001b[39m",
      "\u001b[31mNameError\u001b[39m                                 Traceback (most recent call last)",
      "\u001b[36mCell\u001b[39m\u001b[36m \u001b[39m\u001b[32mIn[2]\u001b[39m\u001b[32m, line 4\u001b[39m\n\u001b[32m      1\u001b[39m \u001b[38;5;28;01mfrom\u001b[39;00m\u001b[38;5;250m \u001b[39m\u001b[34;01mtransformers\u001b[39;00m\u001b[38;5;250m \u001b[39m\u001b[38;5;28;01mimport\u001b[39;00m BertConfig, BertForMaskedLM\n\u001b[32m      3\u001b[39m config = BertConfig(\n\u001b[32m----> \u001b[39m\u001b[32m4\u001b[39m     vocab_size=\u001b[43mtokenizer\u001b[49m.vocab_size,\n\u001b[32m      5\u001b[39m     hidden_size=\u001b[32m256\u001b[39m,\n\u001b[32m      6\u001b[39m     num_hidden_layers=\u001b[32m6\u001b[39m,\n\u001b[32m      7\u001b[39m     num_attention_heads=\u001b[32m4\u001b[39m,\n\u001b[32m      8\u001b[39m     max_position_embeddings=\u001b[32m32\u001b[39m,\n\u001b[32m      9\u001b[39m )\n\u001b[32m     10\u001b[39m model = BertForMaskedLM(config)\n",
      "\u001b[31mNameError\u001b[39m: name 'tokenizer' is not defined"
     ]
    }
   ],
   "source": [
    "from transformers import BertConfig, BertForMaskedLM\n",
    "\n",
    "config = BertConfig(\n",
    "    vocab_size=tokenizer.vocab_size,\n",
    "    hidden_size=256,\n",
    "    num_hidden_layers=6,\n",
    "    num_attention_heads=4,\n",
    "    max_position_embeddings=32,\n",
    ")\n",
    "model = BertForMaskedLM(config)"
   ]
  }
 ],
 "metadata": {
  "kernelspec": {
   "display_name": "hf",
   "language": "python",
   "name": "python3"
  },
  "language_info": {
   "codemirror_mode": {
    "name": "ipython",
    "version": 3
   },
   "file_extension": ".py",
   "mimetype": "text/x-python",
   "name": "python",
   "nbconvert_exporter": "python",
   "pygments_lexer": "ipython3",
   "version": "3.13.2"
  }
 },
 "nbformat": 4,
 "nbformat_minor": 5
}
