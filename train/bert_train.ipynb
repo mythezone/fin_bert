{
 "cells": [
  {
   "cell_type": "code",
   "execution_count": null,
   "id": "7e80deb3",
   "metadata": {},
   "outputs": [],
   "source": [
    "from my_train.train_model import ModelTrainer"
   ]
  }
 ],
 "metadata": {
  "kernelspec": {
   "display_name": "hf",
   "language": "python",
   "name": "python3"
  },
  "language_info": {
   "name": "python",
   "version": "3.13.2"
  }
 },
 "nbformat": 4,
 "nbformat_minor": 5
}
