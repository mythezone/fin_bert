{
 "cells": [
  {
   "cell_type": "code",
   "execution_count": 1,
   "id": "1ce0f921",
   "metadata": {},
   "outputs": [],
   "source": [
    "import pandas as pd\n",
    "\n",
    "\n",
    "def export_corpus_txt(pkl_path, txt_path):\n",
    "    df = pd.read_pickle(pkl_path)\n",
    "    with open(txt_path, \"w\") as f:\n",
    "        for row in df[\"text\"]:\n",
    "            f.write(\" \".join(row) + \"\\n\")\n",
    "\n",
    "export_corpus_txt(\"data/tokenized/corpus_16.pkl\", \"data/tokenized/corpus_16.txt\")"
   ]
  },
  {
   "cell_type": "code",
   "execution_count": 2,
   "id": "dbb9f4a4",
   "metadata": {},
   "outputs": [],
   "source": [
    "import pandas as pd\n",
    "import json\n",
    "\n",
    "\n",
    "def export_to_jsonl(pkl_path, jsonl_path):\n",
    "    df = pd.read_pickle(pkl_path)\n",
    "    with open(jsonl_path, \"w\") as f:\n",
    "        for _, row in df.iterrows():\n",
    "            json.dump({\"id\": row[\"id\"], \"text\": row[\"text\"]}, f)\n",
    "            f.write(\"\\n\")\n",
    "\n",
    "export_to_jsonl(\n",
    "    \"data/tokenized/segmented_corpus_16.pkl\", \"data/tokenized/segmented_corpus_16.jsonl\"\n",
    ")"
   ]
  },
  {
   "cell_type": "code",
   "execution_count": 3,
   "id": "86402300",
   "metadata": {},
   "outputs": [
    {
     "data": {
      "application/vnd.jupyter.widget-view+json": {
       "model_id": "9a3085cae799415d8744eaf0880dab9e",
       "version_major": 2,
       "version_minor": 0
      },
      "text/plain": [
       "README.md:   0%|          | 0.00/1.37k [00:00<?, ?B/s]"
      ]
     },
     "metadata": {},
     "output_type": "display_data"
    },
    {
     "data": {
      "application/vnd.jupyter.widget-view+json": {
       "model_id": "36a5cc7388854e0f9f838f08b032860b",
       "version_major": 2,
       "version_minor": 0
      },
      "text/plain": [
       "segmented_corpus_16.jsonl:   0%|          | 0.00/61.6M [00:00<?, ?B/s]"
      ]
     },
     "metadata": {},
     "output_type": "display_data"
    },
    {
     "data": {
      "application/vnd.jupyter.widget-view+json": {
       "model_id": "d540ccf6636c4f87be53555ff44e7e6c",
       "version_major": 2,
       "version_minor": 0
      },
      "text/plain": [
       "Generating train split: 0 examples [00:00, ? examples/s]"
      ]
     },
     "metadata": {},
     "output_type": "display_data"
    },
    {
     "name": "stdout",
     "output_type": "stream",
     "text": [
      "{'id': '1_0', 'text': ['7956', '6856', '8855', '7C68', '6746', '7877', '8A88', '8A7A', '8978', '0300', '8968', '8C7B', '7867', '8988', '7867', '8856', '7968', '6767', '8978', '6756', '8A79', '8866']}\n",
      "Total examples: 300775\n",
      "Total columns: 2\n"
     ]
    }
   ],
   "source": [
    "from datasets import load_dataset \n",
    "\n",
    "dataset = load_dataset(\"mythezone/financial-corpus-a-share\", split=\"train\")\n",
    "\n",
    "print(dataset[0])\n",
    "print(f\"Total examples: {len(dataset)}\")\n",
    "print(f\"Total columns: {len(dataset.column_names)}\")"
   ]
  },
  {
   "cell_type": "code",
   "execution_count": 5,
   "id": "4c45ee19",
   "metadata": {},
   "outputs": [
    {
     "name": "stdout",
     "output_type": "stream",
     "text": [
      "['7956', '6856', '8855', '7C68', '6746', '7877', '8A88', '8A7A', '8978', '0300', '8968', '8C7B', '7867', '8988', '7867', '8856', '7968', '6767', '8978', '6756', '8A79', '8866']\n",
      "tensor([[ 85, 100,  25, 414, 135,  11,  58,  37,   7, 383,  32,  78,   9,  21,\n",
      "           9,  17,  23, 174,   7,  70,  19,  12]])\n",
      "tensor([[1, 1, 1, 1, 1, 1, 1, 1, 1, 1, 1, 1, 1, 1, 1, 1, 1, 1, 1, 1, 1, 1]])\n"
     ]
    }
   ],
   "source": [
    "from transformers import PreTrainedTokenizerFast \n",
    "\n",
    "tokenizer = PreTrainedTokenizerFast(\n",
    "    tokenizer_file=\"data/tokenized/financial_tokenizer.json\"\n",
    ")\n",
    "\n",
    "sample = dataset[0][\"text\"]\n",
    "print(sample)\n",
    "\n",
    "encoding = tokenizer(\" \".join(sample), return_tensors=\"pt\")\n",
    "print(encoding.input_ids)\n",
    "print(encoding.attention_mask)"
   ]
  },
  {
   "cell_type": "code",
   "execution_count": null,
   "id": "b6b7985b",
   "metadata": {},
   "outputs": [],
   "source": []
  }
 ],
 "metadata": {
  "kernelspec": {
   "display_name": "hf",
   "language": "python",
   "name": "python3"
  },
  "language_info": {
   "codemirror_mode": {
    "name": "ipython",
    "version": 3
   },
   "file_extension": ".py",
   "mimetype": "text/x-python",
   "name": "python",
   "nbconvert_exporter": "python",
   "pygments_lexer": "ipython3",
   "version": "3.13.2"
  }
 },
 "nbformat": 4,
 "nbformat_minor": 5
}
