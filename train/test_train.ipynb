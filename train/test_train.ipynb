{
 "cells": [
  {
   "cell_type": "code",
   "execution_count": 4,
   "id": "1778d85e",
   "metadata": {},
   "outputs": [],
   "source": [
    "from transformers import (\n",
    "    BertConfig,\n",
    "    BertForMaskedLM,\n",
    "    PreTrainedTokenizerFast,\n",
    "    DataCollatorForLanguageModeling,\n",
    "    Trainer,\n",
    "    TrainingArguments,\n",
    ")\n",
    "from datasets import load_dataset, Dataset, DatasetDict\n",
    "import torch\n",
    "\n",
    "# === 加载模型和数据 ===\n",
    "tokenizer = PreTrainedTokenizerFast.from_pretrained(\n",
    "    \"dataset/tokenizer/custom_tokenizer\"\n",
    ")\n",
    "tokenized_dataset = load_from_disk(\"dataset/huggingface/custom_tokenized\")\n",
    "config = BertConfig(\n",
    "    vocab_size=tokenizer.vocab_size,\n",
    "    hidden_size=384,\n",
    "    num_hidden_layers=12,\n",
    "    num_attention_heads=8,\n",
    "    max_position_embeddings=64,\n",
    "    type_vocab_size=1,\n",
    ")\n",
    "model = BertForMaskedLM(config)"
   ]
  },
  {
   "cell_type": "code",
   "execution_count": 5,
   "id": "e70b769e",
   "metadata": {},
   "outputs": [],
   "source": [
    "# 拆分验证集和测试集\n",
    "split_dataset = tokenized_dataset.train_test_split(test_size=0.2, seed=42)\n",
    "valid_test_split = split_dataset[\"test\"].train_test_split(test_size=0.5, seed=42)\n",
    "tokenized_dataset = DatasetDict(\n",
    "    {\n",
    "        \"train\": split_dataset[\"train\"],\n",
    "        \"valid\": valid_test_split[\"train\"],\n",
    "        \"test\": valid_test_split[\"test\"],\n",
    "    }\n",
    ")\n",
    "\n",
    "# === 构造小 batch（例如 4 个样本）===\n",
    "batch = tokenized_dataset[\"train\"].select(range(4))\n",
    "input_ids = torch.tensor(batch[\"input_ids\"])\n",
    "attention_mask = torch.tensor(batch[\"attention_mask\"])"
   ]
  },
  {
   "cell_type": "code",
   "execution_count": 6,
   "id": "847190e2",
   "metadata": {},
   "outputs": [],
   "source": [
    "# === 构造 MLM 标签 ===\n",
    "labels = input_ids.clone()\n",
    "rand = torch.rand(input_ids.shape)\n",
    "mask_arr = (\n",
    "    (rand < 0.15)\n",
    "    & (input_ids != tokenizer.pad_token_id)\n",
    "    & (input_ids != tokenizer.cls_token_id)\n",
    "    & (input_ids != tokenizer.sep_token_id)\n",
    ")\n",
    "labels[~mask_arr] = -100\n",
    "\n"
   ]
  },
  {
   "cell_type": "code",
   "execution_count": 7,
   "id": "e9a7bb7c",
   "metadata": {},
   "outputs": [
    {
     "name": "stdout",
     "output_type": "stream",
     "text": [
      "Loss: 12.1316\n",
      "Grad Norm: 11.24\n"
     ]
    }
   ],
   "source": [
    "import os \n",
    "os.environ[\"CUDA_VISIBLE_DEVICES\"] = \"3\"\n",
    "# === 送入模型设备（GPU）===\n",
    "device = torch.device(\"cuda\" if torch.cuda.is_available() else \"cpu\")\n",
    "model.to(device)\n",
    "input_ids = input_ids.to(device)\n",
    "attention_mask = attention_mask.to(device)\n",
    "labels = labels.to(device)\n",
    "\n",
    "# === 前向传播 + 反向传播 ===\n",
    "model.train()\n",
    "outputs = model(input_ids=input_ids, attention_mask=attention_mask, labels=labels)\n",
    "loss = outputs.loss\n",
    "loss.backward()\n",
    "\n",
    "# === 计算梯度范数（用于判断是否爆炸）===\n",
    "total_norm = 0.0\n",
    "for p in model.parameters():\n",
    "    if p.grad is not None:\n",
    "        param_norm = p.grad.data.norm(2)\n",
    "        total_norm += param_norm.item() ** 2\n",
    "total_norm = total_norm**0.5\n",
    "\n",
    "print(f\"Loss: {loss.item():.4f}\")\n",
    "print(f\"Grad Norm: {total_norm:.2f}\")"
   ]
  }
 ],
 "metadata": {
  "kernelspec": {
   "display_name": "hf",
   "language": "python",
   "name": "python3"
  },
  "language_info": {
   "codemirror_mode": {
    "name": "ipython",
    "version": 3
   },
   "file_extension": ".py",
   "mimetype": "text/x-python",
   "name": "python",
   "nbconvert_exporter": "python",
   "pygments_lexer": "ipython3",
   "version": "3.13.2"
  }
 },
 "nbformat": 4,
 "nbformat_minor": 5
}
