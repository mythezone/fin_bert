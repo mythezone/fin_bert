{
 "cells": [
  {
   "cell_type": "code",
   "execution_count": 2,
   "id": "a7813789",
   "metadata": {},
   "outputs": [],
   "source": [
    "from tokenizers import Tokenizer \n",
    "from tokenizers.models import WordPiece \n",
    "\n",
    "bert_tokenizer = Tokenizer(WordPiece(unk_token=\"[UNK]\"))\n"
   ]
  },
  {
   "cell_type": "code",
   "execution_count": 2,
   "id": "d1f71037",
   "metadata": {},
   "outputs": [],
   "source": [
    "from tokenizers import normalizers \n",
    "from tokenizers.normalizers import NFD, Lowercase, StripAccents \n",
    "\n",
    "bert_tokenizer.normalizer = normalizers.Sequence([NFD()])\n"
   ]
  },
  {
   "cell_type": "code",
   "execution_count": 3,
   "id": "e012212c",
   "metadata": {},
   "outputs": [],
   "source": [
    "from tokenizers.processors import TemplateProcessing\n",
    "bert_tokenizer.post_processor = TemplateProcessing(\n",
    "    single=\"[CLS] $A [SEP]\",\n",
    "    pair=\"[CLS] $A [SEP] $B:1 [SEP]:1\",\n",
    "    special_tokens=[\n",
    "        (\"[CLS]\", 1),\n",
    "        (\"[SEP]\", 2),\n",
    "    ],\n",
    ")"
   ]
  },
  {
   "cell_type": "code",
   "execution_count": 4,
   "id": "a6559500",
   "metadata": {},
   "outputs": [
    {
     "name": "stdout",
     "output_type": "stream",
     "text": [
      "\n",
      "\n",
      "\n"
     ]
    }
   ],
   "source": [
    "from tokenizers.trainers import WordPieceTrainer\n",
    "trainer = WordPieceTrainer(\n",
    "    vocab_size=31000,\n",
    "    special_tokens=[\"[UNK]\", \"[CLS]\", \"[SEP]\", \"[PAD]\", \"[MASK]\"],\n",
    ")\n",
    "files = [\"dataset/standard_hex.txt\"]\n",
    "bert_tokenizer.train(files, trainer)\n",
    "bert_tokenizer.save(\"dataset/wp_tokenizer.json\")"
   ]
  },
  {
   "cell_type": "code",
   "execution_count": 6,
   "id": "c1a1f8eb",
   "metadata": {},
   "outputs": [
    {
     "name": "stdout",
     "output_type": "stream",
     "text": [
      "['[CLS]', '1414', '##07', '##10', '## F90FF', '##20F', '## F0F2ECEC', '## 0014', '##ED13', '[SEP]']\n"
     ]
    }
   ],
   "source": [
    "output = bert_tokenizer.encode_batch(\n",
    "    [\"14140710 F90FF20F F0F2ECEC 0014ED13\", \"F612F20D F501F2F6 F9FDEFF3 F904F4F7\"]\n",
    ")\n",
    "print(output[0].tokens)"
   ]
  },
  {
   "cell_type": "code",
   "execution_count": 7,
   "id": "38e71f7d",
   "metadata": {},
   "outputs": [
    {
     "name": "stdout",
     "output_type": "stream",
     "text": [
      "['[CLS]', '1414', '##07', '##10', '## F90FF', '##20F', '## F0F2ECEC', '## 0014', '##ED13', '[SEP]', 'F6', '##12', '##F20D', '## F501', '##F2F6', '## F9FD', '##EFF3', '## F904F4F7', '[SEP]']\n"
     ]
    }
   ],
   "source": [
    "output = bert_tokenizer.encode(\n",
    "    \"14140710 F90FF20F F0F2ECEC 0014ED13\", \"F612F20D F501F2F6 F9FDEFF3 F904F4F7\"\n",
    ")\n",
    "print(output.tokens)"
   ]
  },
  {
   "cell_type": "code",
   "execution_count": 8,
   "id": "febed669",
   "metadata": {},
   "outputs": [
    {
     "name": "stdout",
     "output_type": "stream",
     "text": [
      "1414 ##07 ##10 ## F90FF ##20F ## F0F2ECEC ## 0014 ##ED13 F6 ##12 ##F20D ## F501 ##F2F6 ## F9FD ##EFF3 ## F904F4F7\n"
     ]
    }
   ],
   "source": [
    "out = bert_tokenizer.decode(output.ids)\n",
    "print(out)"
   ]
  },
  {
   "cell_type": "code",
   "execution_count": null,
   "id": "afc34ead",
   "metadata": {},
   "outputs": [],
   "source": []
  }
 ],
 "metadata": {
  "kernelspec": {
   "display_name": "hf",
   "language": "python",
   "name": "python3"
  },
  "language_info": {
   "codemirror_mode": {
    "name": "ipython",
    "version": 3
   },
   "file_extension": ".py",
   "mimetype": "text/x-python",
   "name": "python",
   "nbconvert_exporter": "python",
   "pygments_lexer": "ipython3",
   "version": "3.13.2"
  }
 },
 "nbformat": 4,
 "nbformat_minor": 5
}
