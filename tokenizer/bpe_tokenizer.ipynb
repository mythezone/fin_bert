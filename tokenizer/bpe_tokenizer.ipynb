{
 "cells": [
  {
   "cell_type": "code",
   "execution_count": 1,
   "id": "5bf53056",
   "metadata": {},
   "outputs": [],
   "source": [
    "from tokenizers import Tokenizer\n",
    "\n",
    "from tokenizers.models import BPE\n",
    "\n",
    "tokenizer = Tokenizer(BPE(unk_token=\"[UNK]\"))"
   ]
  },
  {
   "cell_type": "code",
   "execution_count": 2,
   "id": "1efb4e1c",
   "metadata": {},
   "outputs": [],
   "source": [
    "from tokenizers.trainers import BpeTrainer\n",
    "\n",
    "trainer = BpeTrainer(special_tokens=[\"[UNK]\", \"[CLS]\", \"[SEP]\", \"[PAD]\", \"[MASK]\"])\n"
   ]
  },
  {
   "cell_type": "code",
   "execution_count": 3,
   "id": "1ac6ee8a",
   "metadata": {},
   "outputs": [
    {
     "name": "stdout",
     "output_type": "stream",
     "text": [
      "\n",
      "\n",
      "\n"
     ]
    }
   ],
   "source": [
    "from tokenizers.pre_tokenizers import Whitespace\n",
    "\n",
    "tokenizer.pre_tokenizer = Whitespace()\n",
    "\n",
    "files = \"./dataset/standard_hex.txt\"\n",
    "\n",
    "tokenizer.train(files=[files], trainer=trainer)"
   ]
  },
  {
   "cell_type": "code",
   "execution_count": 4,
   "id": "9d61e011",
   "metadata": {},
   "outputs": [],
   "source": [
    "tokenizer.save(\"dataset/standard_hex.json\")"
   ]
  },
  {
   "cell_type": "code",
   "execution_count": 5,
   "id": "0ab2b70d",
   "metadata": {},
   "outputs": [],
   "source": [
    "output = tokenizer.encode(\"0101EFF0 0105F6FA 010DFC0C FF00F7FC 0006F902 010EFB0C 080AF8FD 0111FC10\")"
   ]
  },
  {
   "cell_type": "code",
   "execution_count": 8,
   "id": "8a4dd676",
   "metadata": {},
   "outputs": [
    {
     "data": {
      "text/plain": [
       "[9840, 9246, 6453, 10580, 4066, 9905, 443, 214, 18318]"
      ]
     },
     "execution_count": 8,
     "metadata": {},
     "output_type": "execute_result"
    }
   ],
   "source": [
    "output.ids"
   ]
  },
  {
   "cell_type": "code",
   "execution_count": 9,
   "id": "237fb298",
   "metadata": {},
   "outputs": [
    {
     "data": {
      "text/plain": [
       "[(0, 8),\n",
       " (9, 17),\n",
       " (18, 26),\n",
       " (27, 35),\n",
       " (36, 44),\n",
       " (45, 53),\n",
       " (54, 58),\n",
       " (58, 62),\n",
       " (63, 71)]"
      ]
     },
     "execution_count": 9,
     "metadata": {},
     "output_type": "execute_result"
    }
   ],
   "source": [
    "output.offsets"
   ]
  },
  {
   "cell_type": "code",
   "execution_count": 10,
   "id": "c4f2e923",
   "metadata": {},
   "outputs": [
    {
     "data": {
      "text/plain": [
       "2"
      ]
     },
     "execution_count": 10,
     "metadata": {},
     "output_type": "execute_result"
    }
   ],
   "source": [
    "tokenizer.token_to_id(\"[SEP]\")"
   ]
  },
  {
   "cell_type": "code",
   "execution_count": 11,
   "id": "9d3cd7d8",
   "metadata": {},
   "outputs": [],
   "source": [
    "from tokenizers.processors import TemplateProcessing\n",
    "tokenizer.post_processor = TemplateProcessing(\n",
    "    single=\"[CLS] $A [SEP]\",\n",
    "    pair=\"[CLS] $A [SEP] $B:1 [SEP]:1\",\n",
    "    special_tokens=[\n",
    "        (\"[CLS]\", tokenizer.token_to_id(\"[CLS]\")),\n",
    "        (\"[SEP]\", tokenizer.token_to_id(\"[SEP]\")),\n",
    "    ],\n",
    ")"
   ]
  },
  {
   "cell_type": "code",
   "execution_count": 12,
   "id": "f47f047c",
   "metadata": {},
   "outputs": [],
   "source": [
    "output = tokenizer.encode(\n",
    "    \"14140710 F90FF20F F0F2ECEC 0014ED13 F612F20D F501F2F6 F9FDEFF3 F904F4F7\"\n",
    ")"
   ]
  },
  {
   "cell_type": "code",
   "execution_count": 13,
   "id": "f6d39957",
   "metadata": {},
   "outputs": [
    {
     "name": "stdout",
     "output_type": "stream",
     "text": [
      "['[CLS]', '1414', '0710', 'F9', '0FF20F', 'F0F2ECEC', '0014', 'ED13', 'F612', 'F20D', 'F501', 'F2F6', 'F9FD', 'EFF3', 'F904F4F7', '[SEP]']\n",
      "[0, 0, 0, 0, 0, 0, 0, 0, 0, 0, 0, 0, 0, 0, 0, 0]\n"
     ]
    }
   ],
   "source": [
    "print(output.tokens)\n",
    "print(output.type_ids)"
   ]
  },
  {
   "cell_type": "code",
   "execution_count": 3,
   "id": "4ff2535d",
   "metadata": {},
   "outputs": [
    {
     "name": "stdout",
     "output_type": "stream",
     "text": [
      "['1414', '0710', 'F9', '0FF20F', 'F0F2ECEC', '0014', 'ED13', 'F612', 'F20D', 'F501', 'F2F6', 'F9FD', 'EFF3', 'F904F4F7']\n"
     ]
    }
   ],
   "source": [
    "output = tokenizer.encode(\n",
    "    \"14140710 F90FF20F F0F2ECEC 0014ED13\", \"F612F20D F501F2F6 F9FDEFF3 F904F4F7\"\n",
    ")\n",
    "print(output.tokens)"
   ]
  },
  {
   "cell_type": "code",
   "execution_count": 4,
   "id": "5c01c17c",
   "metadata": {},
   "outputs": [
    {
     "name": "stdout",
     "output_type": "stream",
     "text": [
      "[0, 0, 0, 0, 0, 0, 0, 1, 1, 1, 1, 1, 1, 1]\n"
     ]
    }
   ],
   "source": [
    "print(output.type_ids)"
   ]
  },
  {
   "cell_type": "code",
   "execution_count": 16,
   "id": "ed1f9d8a",
   "metadata": {},
   "outputs": [],
   "source": [
    "tokenizer.save(\"dataset/with_post_process_tokenizer.json\")"
   ]
  },
  {
   "cell_type": "code",
   "execution_count": 6,
   "id": "08120957",
   "metadata": {},
   "outputs": [
    {
     "name": "stdout",
     "output_type": "stream",
     "text": [
      "['1414', '0710', 'F9', '0FF20F', 'F0F2ECEC', '0014', 'ED13']\n"
     ]
    }
   ],
   "source": [
    "output = tokenizer.encode_batch(\n",
    "    [\"14140710 F90FF20F F0F2ECEC 0014ED13\", \"F612F20D F501F2F6 F9FDEFF3 F904F4F7\"]\n",
    ")\n",
    "print(output[0].tokens)"
   ]
  },
  {
   "cell_type": "code",
   "execution_count": 8,
   "id": "5dd00d7d",
   "metadata": {},
   "outputs": [
    {
     "name": "stdout",
     "output_type": "stream",
     "text": [
      "1414 0710 F9 0FF20F F0F2ECEC 0014 ED13\n"
     ]
    }
   ],
   "source": [
    "out = tokenizer.decode(output[0].ids)\n",
    "print(out)"
   ]
  },
  {
   "cell_type": "code",
   "execution_count": 19,
   "id": "c12b318a",
   "metadata": {},
   "outputs": [],
   "source": [
    "tokenizer.normalizer"
   ]
  },
  {
   "cell_type": "code",
   "execution_count": 2,
   "id": "de766588",
   "metadata": {},
   "outputs": [],
   "source": [
    "tokenizer = Tokenizer.from_file(\"dataset/bpe_standard_hex.json\")"
   ]
  },
  {
   "cell_type": "code",
   "execution_count": null,
   "id": "3eedb683",
   "metadata": {},
   "outputs": [],
   "source": []
  }
 ],
 "metadata": {
  "kernelspec": {
   "display_name": "hf",
   "language": "python",
   "name": "python3"
  },
  "language_info": {
   "codemirror_mode": {
    "name": "ipython",
    "version": 3
   },
   "file_extension": ".py",
   "mimetype": "text/x-python",
   "name": "python",
   "nbconvert_exporter": "python",
   "pygments_lexer": "ipython3",
   "version": "3.13.2"
  }
 },
 "nbformat": 4,
 "nbformat_minor": 5
}
