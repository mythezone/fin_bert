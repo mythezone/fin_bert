{
 "cells": [
  {
   "cell_type": "code",
   "execution_count": null,
   "id": "0ddd46d2",
   "metadata": {},
   "outputs": [],
   "source": [
    "import pandas as pd \n",
    "from datasets import Dataset, DatasetDict, load_dataset ,load_from_disk\n",
    "\n",
    "\n",
    "# dataset = load_dataset('txt', data_files = {\"train\":\"dataset/standard_hex.txt\"})"
   ]
  },
  {
   "cell_type": "code",
   "execution_count": null,
   "id": "a40753c6",
   "metadata": {},
   "outputs": [],
   "source": []
  },
  {
   "cell_type": "code",
   "execution_count": null,
   "id": "8c29c26b",
   "metadata": {},
   "outputs": [],
   "source": [
    "with open(\"dataset/standard_hex.txt\", \"r\") as f:\n",
    "    lines = [line.strip() for line in f if line.strip()]\n",
    "df = pd.DataFrame({\"text\": lines})\n",
    "n = len(df)\n",
    "train_end = int(n*0.8)\n",
    "valid_end = train_end+int(n*0.1)\n",
    "\n",
    "train_df = df[:train_end]\n",
    "valid_df = df[train_end:valid_end]\n",
    "test_df = df[valid_end:]\n",
    "\n",
    "train_dataset = Dataset.from_pandas(train_df.reset_index(drop=True))\n",
    "valid_dataset = Dataset.from_pandas(valid_df.reset_index(drop=True))\n",
    "test_dataset = Dataset.from_pandas(test_df.reset_index(drop=True))\n",
    "\n",
    "dataset_dict = DatasetDict(\n",
    "    {\"train\": train_dataset, \"valid\": valid_dataset, \"test\": test_dataset}\n",
    ")"
   ]
  },
  {
   "cell_type": "code",
   "execution_count": null,
   "id": "de3489a2",
   "metadata": {},
   "outputs": [],
   "source": [
    "\n"
   ]
  },
  {
   "cell_type": "code",
   "execution_count": 3,
   "id": "cffdd4e6",
   "metadata": {},
   "outputs": [
    {
     "data": {
      "application/vnd.jupyter.widget-view+json": {
       "model_id": "b187f3593d61407abf53aef164e458ac",
       "version_major": 2,
       "version_minor": 0
      },
      "text/plain": [
       "Saving the dataset (0/1 shards):   0%|          | 0/1054390 [00:00<?, ? examples/s]"
      ]
     },
     "metadata": {},
     "output_type": "display_data"
    },
    {
     "data": {
      "application/vnd.jupyter.widget-view+json": {
       "model_id": "c41acb7b8e3545369a2f168eb9260e30",
       "version_major": 2,
       "version_minor": 0
      },
      "text/plain": [
       "Saving the dataset (0/1 shards):   0%|          | 0/131798 [00:00<?, ? examples/s]"
      ]
     },
     "metadata": {},
     "output_type": "display_data"
    },
    {
     "data": {
      "application/vnd.jupyter.widget-view+json": {
       "model_id": "256548d9f4084a8bbe9ba26e7d256080",
       "version_major": 2,
       "version_minor": 0
      },
      "text/plain": [
       "Saving the dataset (0/1 shards):   0%|          | 0/131800 [00:00<?, ? examples/s]"
      ]
     },
     "metadata": {},
     "output_type": "display_data"
    }
   ],
   "source": [
    "dataset_dict.save_to_disk(\"dataset/huggingface/standard_hex\")"
   ]
  },
  {
   "cell_type": "code",
   "execution_count": 17,
   "id": "f5c7fc1f",
   "metadata": {},
   "outputs": [
    {
     "name": "stdout",
     "output_type": "stream",
     "text": [
      "DatasetDict({\n",
      "    train: Dataset({\n",
      "        features: ['text'],\n",
      "        num_rows: 1054390\n",
      "    })\n",
      "    valid: Dataset({\n",
      "        features: ['text'],\n",
      "        num_rows: 131798\n",
      "    })\n",
      "    test: Dataset({\n",
      "        features: ['text'],\n",
      "        num_rows: 131800\n",
      "    })\n",
      "})\n"
     ]
    }
   ],
   "source": [
    "dataset = load_from_disk(\"dataset/huggingface/standard_hex\")\n",
    "print(dataset)"
   ]
  },
  {
   "cell_type": "code",
   "execution_count": 18,
   "id": "7af251a9",
   "metadata": {},
   "outputs": [],
   "source": [
    "dataset.set_format(\"torch\")"
   ]
  },
  {
   "cell_type": "code",
   "execution_count": 20,
   "id": "d2060d29",
   "metadata": {},
   "outputs": [
    {
     "name": "stdout",
     "output_type": "stream",
     "text": [
      "{'text': 'FB09F5F9 FA02F5F8 0103F4F4 FE10F904 FAFFF3F8 FC05FBFD 040C0105 020CFC0C 0208FB01 EDF1ECEC 0007F800 020FFD0D FD04F8FC 03090004 FE02F9FD 0102F4F7 FC09FA03 F9FEF7FA 0207FB02 F7FBF6F7 050AFF09 0204F8F9'}\n"
     ]
    }
   ],
   "source": [
    "print(dataset[\"train\"][0])"
   ]
  },
  {
   "cell_type": "code",
   "execution_count": null,
   "id": "451894bd",
   "metadata": {},
   "outputs": [],
   "source": []
  }
 ],
 "metadata": {
  "kernelspec": {
   "display_name": "hf",
   "language": "python",
   "name": "python3"
  },
  "language_info": {
   "codemirror_mode": {
    "name": "ipython",
    "version": 3
   },
   "file_extension": ".py",
   "mimetype": "text/x-python",
   "name": "python",
   "nbconvert_exporter": "python",
   "pygments_lexer": "ipython3",
   "version": "3.13.2"
  }
 },
 "nbformat": 4,
 "nbformat_minor": 5
}
