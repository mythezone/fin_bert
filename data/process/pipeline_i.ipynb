{
 "cells": [
  {
   "cell_type": "code",
   "execution_count": 1,
   "id": "24b59c05",
   "metadata": {},
   "outputs": [
    {
     "name": "stdout",
     "output_type": "stream",
     "text": [
      "[✔] Percentager set.\n",
      "[✔] Bucketizer set.\n",
      "[✔] Discretizer set.\n",
      "[✔] Corpus builder set.\n",
      "[🔄] Starting pipeline...\n",
      "[🔍] Loading raw data from dataset/pickled/daily_df.pkl...\n",
      "[📊] Step 1: Converting to percentage...\n",
      "[🔍] Debugging: Percent DataFrame head:\n",
      "   id        date  open_pct  high_pct   low_pct  close_pct  volume_pct\n",
      "0   1  2015-01-06 -0.010612  0.023096 -0.029338  -0.014981    0.757374\n",
      "1   1  2015-01-07 -0.013942  0.003169 -0.030418  -0.019011    0.784760\n",
      "2   1  2015-01-08  0.001292  0.005814 -0.037468  -0.033592    0.828008\n",
      "3   1  2015-01-09 -0.004011  0.060829 -0.016711   0.008021    1.781967\n",
      "4   1  2015-01-12 -0.013926 -0.001989 -0.038462  -0.020557    0.619211\n",
      "[🔢] Step 2: Discretizing...\n",
      "[🔍] Debugging: Discretized DataFrame head:\n",
      "   id        date  open_pct  high_pct  low_pct  close_pct\n",
      "0   1  2015-01-06        -5         9      -11         -7\n",
      "1   1  2015-01-07        -6         2      -11         -8\n",
      "2   1  2015-01-08         1         3      -12        -12\n",
      "3   1  2015-01-09        -2        16       -7          4\n",
      "4   1  2015-01-12        -6        -1      -13         -8\n",
      "[🧠] Step 3: Building corpus...\n",
      "[🔍] Debugging: Corpus DataFrame head:\n",
      "    id                                               text\n",
      "0  1_0  [(-5, 9, -11, -7), (-6, 2, -11, -8), (1, 3, -1...\n",
      "1  1_1  [(-4, 5, -5, -3), (4, 12, 1, 5), (2, 12, -4, 1...\n",
      "2  1_2  [(0, 7, -8, 0), (2, 15, -3, 13), (-3, 4, -8, -...\n",
      "3  1_3  [(1, 2, -12, -9), (-4, 9, -6, 3), (-7, -2, -9,...\n",
      "4  1_4  [(5, 10, -1, 9), (2, 4, -8, -7), (13, 15, 2, 3...\n",
      "[💾] Step 4: Saving to standard.pkl...\n",
      "[✅] Pipeline complete.\n"
     ]
    }
   ],
   "source": [
    "from data.process.pipeline import Pipeline\n",
    "\n",
    "pl = Pipeline(config_file = \"config/process_pipeline/standard.json\")\n",
    "\n",
    "pl.process()"
   ]
  },
  {
   "cell_type": "code",
   "execution_count": 2,
   "id": "337e3cea",
   "metadata": {},
   "outputs": [
    {
     "data": {
      "text/plain": [
       "(1317988, 2)"
      ]
     },
     "execution_count": 2,
     "metadata": {},
     "output_type": "execute_result"
    }
   ],
   "source": [
    "pl.corpus_builder.grouped.shape"
   ]
  },
  {
   "cell_type": "code",
   "execution_count": null,
   "id": "72ba1b86",
   "metadata": {},
   "outputs": [
    {
     "ename": "AttributeError",
     "evalue": "'list' object has no attribute 'shape'",
     "output_type": "error",
     "traceback": [
      "\u001b[31m---------------------------------------------------------------------------\u001b[39m",
      "\u001b[31mAttributeError\u001b[39m                            Traceback (most recent call last)",
      "\u001b[36mCell\u001b[39m\u001b[36m \u001b[39m\u001b[32mIn[7]\u001b[39m\u001b[32m, line 4\u001b[39m\n\u001b[32m      1\u001b[39m \u001b[38;5;28;01mimport\u001b[39;00m\u001b[38;5;250m \u001b[39m\u001b[34;01mpandas\u001b[39;00m\u001b[38;5;250m \u001b[39m\u001b[38;5;28;01mas\u001b[39;00m\u001b[38;5;250m \u001b[39m\u001b[34;01mpd\u001b[39;00m \n\u001b[32m      3\u001b[39m df = pd.read_pickle(\u001b[33m\"\u001b[39m\u001b[33mdataset/pickled/standard.pkl\u001b[39m\u001b[33m\"\u001b[39m)\n\u001b[32m----> \u001b[39m\u001b[32m4\u001b[39m \u001b[43mdf\u001b[49m\u001b[43m.\u001b[49m\u001b[43miloc\u001b[49m\u001b[43m[\u001b[49m\u001b[32;43m0\u001b[39;49m\u001b[43m]\u001b[49m\u001b[43m[\u001b[49m\u001b[33;43m\"\u001b[39;49m\u001b[33;43mtext\u001b[39;49m\u001b[33;43m\"\u001b[39;49m\u001b[43m]\u001b[49m\u001b[43m.\u001b[49m\u001b[43mshape\u001b[49m\n",
      "\u001b[31mAttributeError\u001b[39m: 'list' object has no attribute 'shape'"
     ]
    }
   ],
   "source": [
    "import pandas as pd \n",
    "\n",
    "df = pd.read_pickle(\"dataset/pickled/standard.pkl\")\n"
   ]
  },
  {
   "cell_type": "code",
   "execution_count": 10,
   "id": "96c4ba9a",
   "metadata": {},
   "outputs": [
    {
     "data": {
      "text/html": [
       "<div>\n",
       "<style scoped>\n",
       "    .dataframe tbody tr th:only-of-type {\n",
       "        vertical-align: middle;\n",
       "    }\n",
       "\n",
       "    .dataframe tbody tr th {\n",
       "        vertical-align: top;\n",
       "    }\n",
       "\n",
       "    .dataframe thead th {\n",
       "        text-align: right;\n",
       "    }\n",
       "</style>\n",
       "<table border=\"1\" class=\"dataframe\">\n",
       "  <thead>\n",
       "    <tr style=\"text-align: right;\">\n",
       "      <th></th>\n",
       "      <th>text</th>\n",
       "    </tr>\n",
       "  </thead>\n",
       "  <tbody>\n",
       "    <tr>\n",
       "      <th>100</th>\n",
       "      <td>[(-20, 20, -20, 20), (-20, 0, -20, -20), (-20,...</td>\n",
       "    </tr>\n",
       "    <tr>\n",
       "      <th>101</th>\n",
       "      <td>[(-20, 20, -20, 20), (20, 20, -20, 20), (20, 2...</td>\n",
       "    </tr>\n",
       "    <tr>\n",
       "      <th>102</th>\n",
       "      <td>[(20, 20, 20, 20), (20, 20, -20, 0), (-20, -20...</td>\n",
       "    </tr>\n",
       "    <tr>\n",
       "      <th>103</th>\n",
       "      <td>[(-20, -20, -20, -20), (20, 20, 20, 20), (20, ...</td>\n",
       "    </tr>\n",
       "    <tr>\n",
       "      <th>104</th>\n",
       "      <td>[(-20, 20, -20, -20), (0, 20, -20, 20), (20, 2...</td>\n",
       "    </tr>\n",
       "    <tr>\n",
       "      <th>...</th>\n",
       "      <td>...</td>\n",
       "    </tr>\n",
       "    <tr>\n",
       "      <th>195</th>\n",
       "      <td>[(20, 20, 20, 20), (20, 20, 20, 20), (20, 20, ...</td>\n",
       "    </tr>\n",
       "    <tr>\n",
       "      <th>196</th>\n",
       "      <td>[(20, 20, 20, 20), (20, 20, 20, 20), (20, 20, ...</td>\n",
       "    </tr>\n",
       "    <tr>\n",
       "      <th>197</th>\n",
       "      <td>[(20, 20, -20, 20), (-20, 0, -20, -20), (-20, ...</td>\n",
       "    </tr>\n",
       "    <tr>\n",
       "      <th>198</th>\n",
       "      <td>[(-20, -20, -20, -20), (-20, 20, -20, -20), (2...</td>\n",
       "    </tr>\n",
       "    <tr>\n",
       "      <th>199</th>\n",
       "      <td>[(-20, -20, -20, -20), (-20, 20, -20, -20), (2...</td>\n",
       "    </tr>\n",
       "  </tbody>\n",
       "</table>\n",
       "<p>100 rows × 1 columns</p>\n",
       "</div>"
      ],
      "text/plain": [
       "                                                  text\n",
       "100  [(-20, 20, -20, 20), (-20, 0, -20, -20), (-20,...\n",
       "101  [(-20, 20, -20, 20), (20, 20, -20, 20), (20, 2...\n",
       "102  [(20, 20, 20, 20), (20, 20, -20, 0), (-20, -20...\n",
       "103  [(-20, -20, -20, -20), (20, 20, 20, 20), (20, ...\n",
       "104  [(-20, 20, -20, -20), (0, 20, -20, 20), (20, 2...\n",
       "..                                                 ...\n",
       "195  [(20, 20, 20, 20), (20, 20, 20, 20), (20, 20, ...\n",
       "196  [(20, 20, 20, 20), (20, 20, 20, 20), (20, 20, ...\n",
       "197  [(20, 20, -20, 20), (-20, 0, -20, -20), (-20, ...\n",
       "198  [(-20, -20, -20, -20), (-20, 20, -20, -20), (2...\n",
       "199  [(-20, -20, -20, -20), (-20, 20, -20, -20), (2...\n",
       "\n",
       "[100 rows x 1 columns]"
      ]
     },
     "execution_count": 10,
     "metadata": {},
     "output_type": "execute_result"
    }
   ],
   "source": [
    "df[[\"text\"]][100:200]"
   ]
  },
  {
   "cell_type": "code",
   "execution_count": null,
   "id": "f962cdcb",
   "metadata": {},
   "outputs": [],
   "source": []
  }
 ],
 "metadata": {
  "kernelspec": {
   "display_name": "hf",
   "language": "python",
   "name": "python3"
  },
  "language_info": {
   "codemirror_mode": {
    "name": "ipython",
    "version": 3
   },
   "file_extension": ".py",
   "mimetype": "text/x-python",
   "name": "python",
   "nbconvert_exporter": "python",
   "pygments_lexer": "ipython3",
   "version": "3.13.2"
  }
 },
 "nbformat": 4,
 "nbformat_minor": 5
}
