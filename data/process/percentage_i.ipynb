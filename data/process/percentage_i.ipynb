{
 "cells": [
  {
   "cell_type": "code",
   "execution_count": null,
   "id": "e336dde3",
   "metadata": {},
   "outputs": [],
   "source": [
    "from data.process.percentage import DailyOHLCPercentage\n",
    "import pandas as pd\n",
    "import numpy as np\n",
    "\n",
    "df = pd.read_pickle(\"dataset/pickled/daily_df.pkl\")\n",
    "hp = DailyOHLCPercentage()"
   ]
  },
  {
   "cell_type": "code",
   "execution_count": 3,
   "id": "5b68633d",
   "metadata": {},
   "outputs": [],
   "source": [
    "percentage_df = hp.transform(df)"
   ]
  },
  {
   "cell_type": "code",
   "execution_count": 4,
   "id": "6b049543",
   "metadata": {},
   "outputs": [],
   "source": [
    "percentage_df.to_pickle(\"dataset/pickled/daily_percentage_df.pkl\")"
   ]
  },
  {
   "cell_type": "code",
   "execution_count": null,
   "id": "8025d6cf",
   "metadata": {},
   "outputs": [],
   "source": []
  }
 ],
 "metadata": {
  "kernelspec": {
   "display_name": "hf",
   "language": "python",
   "name": "python3"
  },
  "language_info": {
   "codemirror_mode": {
    "name": "ipython",
    "version": 3
   },
   "file_extension": ".py",
   "mimetype": "text/x-python",
   "name": "python",
   "nbconvert_exporter": "python",
   "pygments_lexer": "ipython3",
   "version": "3.13.2"
  }
 },
 "nbformat": 4,
 "nbformat_minor": 5
}
